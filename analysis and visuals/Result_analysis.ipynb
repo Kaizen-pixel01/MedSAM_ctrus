{
  "nbformat": 4,
  "nbformat_minor": 0,
  "metadata": {
    "colab": {
      "provenance": [],
      "toc_visible": true
    },
    "kernelspec": {
      "name": "python3",
      "display_name": "Python 3"
    },
    "language_info": {
      "name": "python"
    }
  },
  "cells": [
    {
      "cell_type": "code",
      "execution_count": 1,
      "metadata": {
        "colab": {
          "base_uri": "https://localhost:8080/"
        },
        "id": "vXf5GVxVUW1s",
        "outputId": "39430d47-db70-4eb4-9c02-0f0afaed9799"
      },
      "outputs": [
        {
          "output_type": "stream",
          "name": "stdout",
          "text": [
            "Mounted at /content/drive\n"
          ]
        }
      ],
      "source": [
        "from google.colab import drive\n",
        "drive.mount('/content/drive')\n"
      ]
    },
    {
      "cell_type": "code",
      "source": [
        "import os"
      ],
      "metadata": {
        "id": "vjvJND8YUrlE"
      },
      "execution_count": 2,
      "outputs": []
    },
    {
      "cell_type": "markdown",
      "source": [
        "The analysis will be conducted using the results from the experiment file that trains and test the fine-tuned models of MedSAM on subsets of C-TRUS. I use the wilcoxon_compare.py script (provided in my GitHub) to compare results between experiments. It runs a Wilcoxon signed-rank test on each metric to check if performance differences are statistically significant, without the need for normal distribution checks.\n",
        "\n",
        "Please make sure that the files are placed in the according files if you want to be able to run this script without errors since it uses the directory I used to get the evaluations."
      ],
      "metadata": {
        "id": "0jrjqF0uXmZp"
      }
    },
    {
      "cell_type": "markdown",
      "source": [
        "# Experiment 1 - Analysis"
      ],
      "metadata": {
        "id": "s4zrwGtLXydg"
      }
    },
    {
      "cell_type": "code",
      "source": [
        "!python /content/drive/MyDrive/MedSAM/fine_tune_scripts/wilcoxon_compare.py \\\n",
        "  --csv_a /content/drive/MyDrive/MedSAM/eval_results/exp1_highTr_lowTe/per_sample_metrics.csv \\\n",
        "  --csv_b /content/drive/MyDrive/MedSAM/eval_results/exp1_lowTr_lowTe/per_sample_metrics.csv \\\n",
        "  --label_a HighTr --label_b LowTr \\\n",
        "  --out_dir /content/drive/MyDrive/MedSAM/eval_results/results/exp1_highTr_vs_lowTr\n"
      ],
      "metadata": {
        "colab": {
          "base_uri": "https://localhost:8080/"
        },
        "id": "9CB-iIDTUciv",
        "outputId": "d38e990b-0ec0-4d85-a3ca-0b8dd84e512b"
      },
      "execution_count": 3,
      "outputs": [
        {
          "output_type": "stream",
          "name": "stdout",
          "text": [
            "Saved: /content/drive/MyDrive/MedSAM/eval_results/results/exp1_highTr_vs_lowTr/wilcoxon_results.csv\n",
            "Saved: /content/drive/MyDrive/MedSAM/eval_results/results/exp1_highTr_vs_lowTr/wilcoxon_report.txt\n"
          ]
        }
      ]
    },
    {
      "cell_type": "markdown",
      "source": [
        "# Experiment 2 - Analysis"
      ],
      "metadata": {
        "id": "NADAbFQYX2k5"
      }
    },
    {
      "cell_type": "markdown",
      "source": [
        "Since experiment 2 works with more tests, it will need multiple comparisons to come to conlusions about the performance of the two models under noise conditions. The first two comparisons will compare the noisy and clean tests of each model (high and low) and then I will compare the noisy test of low and high together to see if one significantly out performed the other."
      ],
      "metadata": {
        "id": "g3e75J5tYeHa"
      }
    },
    {
      "cell_type": "code",
      "source": [
        "#high-quality trained (clean vs. noisy)\n",
        "!python /content/drive/MyDrive/MedSAM/fine_tune_scripts/wilcoxon_compare.py \\\n",
        "  --csv_a /content/drive/MyDrive/MedSAM/eval_results/exp2_highTr_clean/per_sample_metrics.csv \\\n",
        "  --csv_b /content/drive/MyDrive/MedSAM/eval_results/exp2_highTr_noisy/per_sample_metrics.csv \\\n",
        "  --label_a Clean --label_b Noisy \\\n",
        "  --out_dir /content/drive/MyDrive/MedSAM/eval_results/results/exp2_highTr_clean_vs_noisy"
      ],
      "metadata": {
        "colab": {
          "base_uri": "https://localhost:8080/"
        },
        "id": "06ovit9lX5w6",
        "outputId": "c7a8e529-3e80-43f8-cbe9-1ed80b0b4710"
      },
      "execution_count": 4,
      "outputs": [
        {
          "output_type": "stream",
          "name": "stdout",
          "text": [
            "Saved: /content/drive/MyDrive/MedSAM/eval_results/results/exp2_highTr_clean_vs_noisy/wilcoxon_results.csv\n",
            "Saved: /content/drive/MyDrive/MedSAM/eval_results/results/exp2_highTr_clean_vs_noisy/wilcoxon_report.txt\n"
          ]
        }
      ]
    },
    {
      "cell_type": "code",
      "source": [
        "#low-quality trained (clean vs. noisy)\n",
        "!python /content/drive/MyDrive/MedSAM/fine_tune_scripts/wilcoxon_compare.py \\\n",
        "  --csv_a /content/drive/MyDrive/MedSAM/eval_results/exp2_lowTr_clean/per_sample_metrics.csv \\\n",
        "  --csv_b /content/drive/MyDrive/MedSAM/eval_results/exp2_lowTr_noisy/per_sample_metrics.csv \\\n",
        "  --label_a Clean --label_b Noisy \\\n",
        "  --out_dir /content/drive/MyDrive/MedSAM/eval_results/results/exp2_lowTr_clean_vs_noisy\n"
      ],
      "metadata": {
        "colab": {
          "base_uri": "https://localhost:8080/"
        },
        "id": "EW1BUrEFZddU",
        "outputId": "297e670f-8e66-4de2-803a-41e5c8b8c1d3"
      },
      "execution_count": 5,
      "outputs": [
        {
          "output_type": "stream",
          "name": "stdout",
          "text": [
            "Saved: /content/drive/MyDrive/MedSAM/eval_results/results/exp2_lowTr_clean_vs_noisy/wilcoxon_results.csv\n",
            "Saved: /content/drive/MyDrive/MedSAM/eval_results/results/exp2_lowTr_clean_vs_noisy/wilcoxon_report.txt\n"
          ]
        }
      ]
    },
    {
      "cell_type": "code",
      "source": [
        "#high vs. low quality trained models under synthetic noise\n",
        "!python /content/drive/MyDrive/MedSAM/fine_tune_scripts/wilcoxon_compare.py \\\n",
        "  --csv_a /content/drive/MyDrive/MedSAM/eval_results/exp2_highTr_noisy/per_sample_metrics.csv \\\n",
        "  --csv_b /content/drive/MyDrive/MedSAM/eval_results/exp2_lowTr_noisy/per_sample_metrics.csv \\\n",
        "  --label_a HighTrNoisy --label_b LowTrNoisy \\\n",
        "  --out_dir /content/drive/MyDrive/MedSAM/eval_results/results/exp2_highNoisy_vs_lowNoisy\n"
      ],
      "metadata": {
        "colab": {
          "base_uri": "https://localhost:8080/"
        },
        "id": "UEp05ubTZqxi",
        "outputId": "164bb093-f41c-4806-f653-5a1dd5190d9f"
      },
      "execution_count": 6,
      "outputs": [
        {
          "output_type": "stream",
          "name": "stdout",
          "text": [
            "Saved: /content/drive/MyDrive/MedSAM/eval_results/results/exp2_highNoisy_vs_lowNoisy/wilcoxon_results.csv\n",
            "Saved: /content/drive/MyDrive/MedSAM/eval_results/results/exp2_highNoisy_vs_lowNoisy/wilcoxon_report.txt\n"
          ]
        }
      ]
    },
    {
      "cell_type": "markdown",
      "source": [
        "# Experiment 3 - Analysis"
      ],
      "metadata": {
        "id": "Iv_kqwann1QO"
      }
    },
    {
      "cell_type": "markdown",
      "source": [
        "Experiment 3 introduced mixed trained fine tuned MedSAM model and was tested in the same process as low and high for experiment 1 and 2"
      ],
      "metadata": {
        "id": "z_jL3fqTn6Qq"
      }
    },
    {
      "cell_type": "code",
      "source": [
        "#experiment 1 with mixed trained model being compared to low quality trained model\n",
        "!python /content/drive/MyDrive/MedSAM/fine_tune_scripts/wilcoxon_compare.py \\\n",
        "  --csv_a /content/drive/MyDrive/MedSAM/eval_results/exp3_mixTr_lowTe/per_sample_metrics.csv \\\n",
        "  --csv_b /content/drive/MyDrive/MedSAM/eval_results/exp1_lowTr_lowTe/per_sample_metrics.csv \\\n",
        "  --label_a MixTr --label_b LowTr \\\n",
        "  --out_dir /content/drive/MyDrive/MedSAM/eval_results/results/exp3_mixTr_vs_lowTr"
      ],
      "metadata": {
        "colab": {
          "base_uri": "https://localhost:8080/"
        },
        "id": "DuCa6NPrn4G0",
        "outputId": "9a29d994-73b1-4a7e-a8d3-84153cb0c712"
      },
      "execution_count": 7,
      "outputs": [
        {
          "output_type": "stream",
          "name": "stdout",
          "text": [
            "Saved: /content/drive/MyDrive/MedSAM/eval_results/results/exp3_mixTr_vs_lowTr/wilcoxon_results.csv\n",
            "Saved: /content/drive/MyDrive/MedSAM/eval_results/results/exp3_mixTr_vs_lowTr/wilcoxon_report.txt\n"
          ]
        }
      ]
    },
    {
      "cell_type": "code",
      "source": [
        "#experiment 1 with mixed trained model being compared to high quality trained model\n",
        "!python /content/drive/MyDrive/MedSAM/fine_tune_scripts/wilcoxon_compare.py \\\n",
        "  --csv_a /content/drive/MyDrive/MedSAM/eval_results/exp3_mixTr_lowTe/per_sample_metrics.csv \\\n",
        "  --csv_b /content/drive/MyDrive/MedSAM/eval_results/exp1_highTr_lowTe/per_sample_metrics.csv \\\n",
        "  --label_a MixTr --label_b LowTr \\\n",
        "  --out_dir /content/drive/MyDrive/MedSAM/eval_results/results/exp3_mixTr_vs_highTr"
      ],
      "metadata": {
        "colab": {
          "base_uri": "https://localhost:8080/"
        },
        "id": "NUK-_qrHr1wL",
        "outputId": "27584a02-6748-4b91-8d40-87ec361069b6"
      },
      "execution_count": 8,
      "outputs": [
        {
          "output_type": "stream",
          "name": "stdout",
          "text": [
            "Saved: /content/drive/MyDrive/MedSAM/eval_results/results/exp3_mixTr_vs_highTr/wilcoxon_results.csv\n",
            "Saved: /content/drive/MyDrive/MedSAM/eval_results/results/exp3_mixTr_vs_highTr/wilcoxon_report.txt\n"
          ]
        }
      ]
    },
    {
      "cell_type": "code",
      "source": [
        "#experiment 2 with mixed trained model (noisy vs. clean)\n",
        "!python /content/drive/MyDrive/MedSAM/fine_tune_scripts/wilcoxon_compare.py \\\n",
        "  --csv_a /content/drive/MyDrive/MedSAM/eval_results/exp3_mixTr_clean/per_sample_metrics.csv \\\n",
        "  --csv_b /content/drive/MyDrive/MedSAM/eval_results/exp3_mixTr_noisy/per_sample_metrics.csv \\\n",
        "  --label_a Clean --label_b Noisy \\\n",
        "  --out_dir /content/drive/MyDrive/MedSAM/eval_results/results/exp3_mixTr_clean_vs_noisy\n"
      ],
      "metadata": {
        "colab": {
          "base_uri": "https://localhost:8080/"
        },
        "id": "mStJjJV1sfBf",
        "outputId": "937b28d7-8aeb-4fe7-efd1-c9df8097b168"
      },
      "execution_count": 9,
      "outputs": [
        {
          "output_type": "stream",
          "name": "stdout",
          "text": [
            "Saved: /content/drive/MyDrive/MedSAM/eval_results/results/exp3_mixTr_clean_vs_noisy/wilcoxon_results.csv\n",
            "Saved: /content/drive/MyDrive/MedSAM/eval_results/results/exp3_mixTr_clean_vs_noisy/wilcoxon_report.txt\n"
          ]
        }
      ]
    },
    {
      "cell_type": "markdown",
      "source": [
        "# Experiment 4 - Analysis"
      ],
      "metadata": {
        "id": "34kUXkK5zXiV"
      }
    },
    {
      "cell_type": "markdown",
      "source": [
        "Experiment 4 provides the overal performance of the three fine-tuned models on the entirety of the valid C-TRUS dataset. Using these results I can compare the models and determine if some models outperform others and also helps give a comparison to the baseline models tested in the C-TRUS papers as well as the zero-shot test in the beginning."
      ],
      "metadata": {
        "id": "gqp2imzYzcYX"
      }
    },
    {
      "cell_type": "code",
      "source": [
        "#comparing high with low\n",
        "!python /content/drive/MyDrive/MedSAM/fine_tune_scripts/wilcoxon_compare.py \\\n",
        "  --csv_a /content/drive/MyDrive/MedSAM/eval_results/exp4_highTr_full/per_sample_metrics.csv \\\n",
        "  --csv_b /content/drive/MyDrive/MedSAM/eval_results/exp4_lowTr_full/per_sample_metrics.csv \\\n",
        "  --label_a HighTr --label_b LowTr \\\n",
        "  --out_dir /content/drive/MyDrive/MedSAM/eval_results/results/exp4_highTr_vs_lowTr"
      ],
      "metadata": {
        "colab": {
          "base_uri": "https://localhost:8080/"
        },
        "id": "UtNe2Vlkz5ne",
        "outputId": "9d15f255-6526-4004-a973-bae95fc60e99"
      },
      "execution_count": 10,
      "outputs": [
        {
          "output_type": "stream",
          "name": "stdout",
          "text": [
            "Saved: /content/drive/MyDrive/MedSAM/eval_results/results/exp4_highTr_vs_lowTr/wilcoxon_results.csv\n",
            "Saved: /content/drive/MyDrive/MedSAM/eval_results/results/exp4_highTr_vs_lowTr/wilcoxon_report.txt\n"
          ]
        }
      ]
    },
    {
      "cell_type": "code",
      "source": [
        "#comparing high with mixed\n",
        "!python /content/drive/MyDrive/MedSAM/fine_tune_scripts/wilcoxon_compare.py \\\n",
        "  --csv_a /content/drive/MyDrive/MedSAM/eval_results/exp4_highTr_full/per_sample_metrics.csv \\\n",
        "  --csv_b /content/drive/MyDrive/MedSAM/eval_results/exp4_mixTr_full/per_sample_metrics.csv \\\n",
        "  --label_a HighTr --label_b MixTr \\\n",
        "  --out_dir /content/drive/MyDrive/MedSAM/eval_results/results/exp4_highTr_vs_mixTr"
      ],
      "metadata": {
        "colab": {
          "base_uri": "https://localhost:8080/"
        },
        "id": "1Lyao65n0Bz6",
        "outputId": "334e3802-9a8a-416d-cb92-d3f16629426f"
      },
      "execution_count": 11,
      "outputs": [
        {
          "output_type": "stream",
          "name": "stdout",
          "text": [
            "Saved: /content/drive/MyDrive/MedSAM/eval_results/results/exp4_highTr_vs_mixTr/wilcoxon_results.csv\n",
            "Saved: /content/drive/MyDrive/MedSAM/eval_results/results/exp4_highTr_vs_mixTr/wilcoxon_report.txt\n"
          ]
        }
      ]
    },
    {
      "cell_type": "code",
      "source": [
        "#comparing low with mixed\n",
        "!python /content/drive/MyDrive/MedSAM/fine_tune_scripts/wilcoxon_compare.py \\\n",
        "  --csv_a /content/drive/MyDrive/MedSAM/eval_results/exp4_lowTr_full/per_sample_metrics.csv \\\n",
        "  --csv_b /content/drive/MyDrive/MedSAM/eval_results/exp4_mixTr_full/per_sample_metrics.csv \\\n",
        "  --label_a LowTr --label_b MixTr \\\n",
        "  --out_dir /content/drive/MyDrive/MedSAM/eval_results/results/exp4_lowTr_vs_mixTr"
      ],
      "metadata": {
        "colab": {
          "base_uri": "https://localhost:8080/"
        },
        "id": "Cq_64YOj0Wo6",
        "outputId": "692620c3-b818-4284-fa7c-d0f857c3bd6a"
      },
      "execution_count": 12,
      "outputs": [
        {
          "output_type": "stream",
          "name": "stdout",
          "text": [
            "Saved: /content/drive/MyDrive/MedSAM/eval_results/results/exp4_lowTr_vs_mixTr/wilcoxon_results.csv\n",
            "Saved: /content/drive/MyDrive/MedSAM/eval_results/results/exp4_lowTr_vs_mixTr/wilcoxon_report.txt\n"
          ]
        }
      ]
    }
  ]
}