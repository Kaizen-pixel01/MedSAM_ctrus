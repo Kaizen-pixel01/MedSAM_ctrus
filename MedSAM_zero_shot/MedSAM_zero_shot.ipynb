{
  "nbformat": 4,
  "nbformat_minor": 0,
  "metadata": {
    "colab": {
      "provenance": [],
      "gpuType": "T4"
    },
    "kernelspec": {
      "name": "python3",
      "display_name": "Python 3"
    },
    "language_info": {
      "name": "python"
    },
    "accelerator": "GPU"
  },
  "cells": [
    {
      "cell_type": "markdown",
      "source": [
        "Since the reference inference file given in MedSAM GitHub is meant for single inferences (where a single image is passed with a box to run MedSAM on and visualize it needed to be changed quite a bit so that it could run the entire C-TRUS dataset."
      ],
      "metadata": {
        "id": "DmvgIPU_DlTh"
      }
    },
    {
      "cell_type": "code",
      "execution_count": 4,
      "metadata": {
        "colab": {
          "base_uri": "https://localhost:8080/"
        },
        "id": "2KbYBvLpgjDc",
        "outputId": "9db96c3b-af4d-4982-b331-a464d0914058"
      },
      "outputs": [
        {
          "output_type": "stream",
          "name": "stdout",
          "text": [
            "Mounted at /content/drive\n"
          ]
        }
      ],
      "source": [
        "from google.colab import drive\n",
        "drive.mount('/content/drive')\n"
      ]
    },
    {
      "cell_type": "code",
      "source": [
        "!pip install opencv-python-headless\n",
        "!pip install torch torchvision\n",
        "!pip install matplotlib\n"
      ],
      "metadata": {
        "colab": {
          "base_uri": "https://localhost:8080/"
        },
        "collapsed": true,
        "id": "gZJyV4PCg5A5",
        "outputId": "b0d98220-c4d3-467f-ee9c-cbd0716e4806"
      },
      "execution_count": null,
      "outputs": [
        {
          "output_type": "stream",
          "name": "stdout",
          "text": [
            "Requirement already satisfied: opencv-python-headless in /usr/local/lib/python3.11/dist-packages (4.12.0.88)\n",
            "Requirement already satisfied: numpy<2.3.0,>=2 in /usr/local/lib/python3.11/dist-packages (from opencv-python-headless) (2.0.2)\n",
            "Requirement already satisfied: torch in /usr/local/lib/python3.11/dist-packages (2.6.0+cu124)\n",
            "Requirement already satisfied: torchvision in /usr/local/lib/python3.11/dist-packages (0.21.0+cu124)\n",
            "Requirement already satisfied: filelock in /usr/local/lib/python3.11/dist-packages (from torch) (3.18.0)\n",
            "Requirement already satisfied: typing-extensions>=4.10.0 in /usr/local/lib/python3.11/dist-packages (from torch) (4.14.1)\n",
            "Requirement already satisfied: networkx in /usr/local/lib/python3.11/dist-packages (from torch) (3.5)\n",
            "Requirement already satisfied: jinja2 in /usr/local/lib/python3.11/dist-packages (from torch) (3.1.6)\n",
            "Requirement already satisfied: fsspec in /usr/local/lib/python3.11/dist-packages (from torch) (2025.3.0)\n",
            "Requirement already satisfied: nvidia-cuda-nvrtc-cu12==12.4.127 in /usr/local/lib/python3.11/dist-packages (from torch) (12.4.127)\n",
            "Requirement already satisfied: nvidia-cuda-runtime-cu12==12.4.127 in /usr/local/lib/python3.11/dist-packages (from torch) (12.4.127)\n",
            "Requirement already satisfied: nvidia-cuda-cupti-cu12==12.4.127 in /usr/local/lib/python3.11/dist-packages (from torch) (12.4.127)\n",
            "Requirement already satisfied: nvidia-cudnn-cu12==9.1.0.70 in /usr/local/lib/python3.11/dist-packages (from torch) (9.1.0.70)\n",
            "Requirement already satisfied: nvidia-cublas-cu12==12.4.5.8 in /usr/local/lib/python3.11/dist-packages (from torch) (12.4.5.8)\n",
            "Requirement already satisfied: nvidia-cufft-cu12==11.2.1.3 in /usr/local/lib/python3.11/dist-packages (from torch) (11.2.1.3)\n",
            "Requirement already satisfied: nvidia-curand-cu12==10.3.5.147 in /usr/local/lib/python3.11/dist-packages (from torch) (10.3.5.147)\n",
            "Requirement already satisfied: nvidia-cusolver-cu12==11.6.1.9 in /usr/local/lib/python3.11/dist-packages (from torch) (11.6.1.9)\n",
            "Requirement already satisfied: nvidia-cusparse-cu12==12.3.1.170 in /usr/local/lib/python3.11/dist-packages (from torch) (12.3.1.170)\n",
            "Requirement already satisfied: nvidia-cusparselt-cu12==0.6.2 in /usr/local/lib/python3.11/dist-packages (from torch) (0.6.2)\n",
            "Requirement already satisfied: nvidia-nccl-cu12==2.21.5 in /usr/local/lib/python3.11/dist-packages (from torch) (2.21.5)\n",
            "Requirement already satisfied: nvidia-nvtx-cu12==12.4.127 in /usr/local/lib/python3.11/dist-packages (from torch) (12.4.127)\n",
            "Requirement already satisfied: nvidia-nvjitlink-cu12==12.4.127 in /usr/local/lib/python3.11/dist-packages (from torch) (12.4.127)\n",
            "Requirement already satisfied: triton==3.2.0 in /usr/local/lib/python3.11/dist-packages (from torch) (3.2.0)\n",
            "Requirement already satisfied: sympy==1.13.1 in /usr/local/lib/python3.11/dist-packages (from torch) (1.13.1)\n",
            "Requirement already satisfied: mpmath<1.4,>=1.1.0 in /usr/local/lib/python3.11/dist-packages (from sympy==1.13.1->torch) (1.3.0)\n",
            "Requirement already satisfied: numpy in /usr/local/lib/python3.11/dist-packages (from torchvision) (2.0.2)\n",
            "Requirement already satisfied: pillow!=8.3.*,>=5.3.0 in /usr/local/lib/python3.11/dist-packages (from torchvision) (11.3.0)\n",
            "Requirement already satisfied: MarkupSafe>=2.0 in /usr/local/lib/python3.11/dist-packages (from jinja2->torch) (3.0.2)\n",
            "Requirement already satisfied: matplotlib in /usr/local/lib/python3.11/dist-packages (3.10.0)\n",
            "Requirement already satisfied: contourpy>=1.0.1 in /usr/local/lib/python3.11/dist-packages (from matplotlib) (1.3.3)\n",
            "Requirement already satisfied: cycler>=0.10 in /usr/local/lib/python3.11/dist-packages (from matplotlib) (0.12.1)\n",
            "Requirement already satisfied: fonttools>=4.22.0 in /usr/local/lib/python3.11/dist-packages (from matplotlib) (4.59.0)\n",
            "Requirement already satisfied: kiwisolver>=1.3.1 in /usr/local/lib/python3.11/dist-packages (from matplotlib) (1.4.9)\n",
            "Requirement already satisfied: numpy>=1.23 in /usr/local/lib/python3.11/dist-packages (from matplotlib) (2.0.2)\n",
            "Requirement already satisfied: packaging>=20.0 in /usr/local/lib/python3.11/dist-packages (from matplotlib) (25.0)\n",
            "Requirement already satisfied: pillow>=8 in /usr/local/lib/python3.11/dist-packages (from matplotlib) (11.3.0)\n",
            "Requirement already satisfied: pyparsing>=2.3.1 in /usr/local/lib/python3.11/dist-packages (from matplotlib) (3.2.3)\n",
            "Requirement already satisfied: python-dateutil>=2.7 in /usr/local/lib/python3.11/dist-packages (from matplotlib) (2.9.0.post0)\n",
            "Requirement already satisfied: six>=1.5 in /usr/local/lib/python3.11/dist-packages (from python-dateutil>=2.7->matplotlib) (1.17.0)\n"
          ]
        }
      ]
    },
    {
      "cell_type": "markdown",
      "source": [
        "Have to download the following to get access to the sam_model_registry from segment_anything library to get MedSAM's inference file to work (shown at the top of the rference file for MedSAM inferece in its GitHub)"
      ],
      "metadata": {
        "id": "JOXQAZ-eII9O"
      }
    },
    {
      "cell_type": "code",
      "source": [
        "!pip install git+https://github.com/facebookresearch/segment-anything.git"
      ],
      "metadata": {
        "colab": {
          "base_uri": "https://localhost:8080/"
        },
        "collapsed": true,
        "id": "TuyJt6bdCvlR",
        "outputId": "7952eda4-7a7b-421d-93f4-a1254c39259f"
      },
      "execution_count": null,
      "outputs": [
        {
          "output_type": "stream",
          "name": "stdout",
          "text": [
            "Collecting git+https://github.com/facebookresearch/segment-anything.git\n",
            "  Cloning https://github.com/facebookresearch/segment-anything.git to /tmp/pip-req-build-w2cx6t4i\n",
            "  Running command git clone --filter=blob:none --quiet https://github.com/facebookresearch/segment-anything.git /tmp/pip-req-build-w2cx6t4i\n",
            "  Resolved https://github.com/facebookresearch/segment-anything.git to commit dca509fe793f601edb92606367a655c15ac00fdf\n",
            "  Preparing metadata (setup.py) ... \u001b[?25l\u001b[?25hdone\n",
            "Building wheels for collected packages: segment_anything\n",
            "  Building wheel for segment_anything (setup.py) ... \u001b[?25l\u001b[?25hdone\n",
            "  Created wheel for segment_anything: filename=segment_anything-1.0-py3-none-any.whl size=36592 sha256=d3259b1d68339d8e6180b4b6376679fa3797d218bd900318568da71fdea06da0\n",
            "  Stored in directory: /tmp/pip-ephem-wheel-cache-6auoga9q/wheels/15/d7/bd/05f5f23b7dcbe70cbc6783b06f12143b0cf1a5da5c7b52dcc5\n",
            "Successfully built segment_anything\n",
            "Installing collected packages: segment_anything\n",
            "Successfully installed segment_anything-1.0\n"
          ]
        }
      ]
    },
    {
      "cell_type": "markdown",
      "source": [
        " Step 1: Generate Bounding Boxes from Ground Truth Masks - only need to run once to save to drive\n"
      ],
      "metadata": {
        "id": "xUFfLOXynCW6"
      }
    },
    {
      "cell_type": "code",
      "source": [
        "!python /content/drive/MyDrive/MedSAM/zero_shot_result_scripts/generate_bboxes_from_masks.py\n",
        "\n"
      ],
      "metadata": {
        "colab": {
          "base_uri": "https://localhost:8080/"
        },
        "id": "Ex3J7ME7hzXg",
        "outputId": "8908e716-db7c-4c2d-a39e-c467546adff6",
        "collapsed": true
      },
      "execution_count": null,
      "outputs": [
        {
          "output_type": "stream",
          "name": "stdout",
          "text": [
            "\r  0% 0/827 [00:00<?, ?it/s]No mask in: AOGR40X.jpg\n",
            "No mask in: 21MBVD7.jpg\n",
            "No mask in: KYPAGPL.jpg\n",
            "No mask in: LLERK5R.jpg\n",
            "No mask in: 6G9C3ZO.jpg\n",
            "No mask in: BSWP5QG.jpg\n",
            "No mask in: I6CIMG4.jpg\n",
            "No mask in: V2QOT4V.jpg\n",
            "  1% 12/827 [00:02<03:20,  4.07it/s]No mask in: 4CSKH8U.jpg\n",
            "No mask in: HWVQHMY.jpg\n",
            "No mask in: BO204JQ.jpg\n",
            "No mask in: YU7JDIX.jpg\n",
            "No mask in: 43UK777.jpg\n",
            "No mask in: DPKZSX6.jpg\n",
            "  4% 33/827 [00:03<00:58, 13.57it/s]No mask in: FWN57V5.jpg\n",
            "No mask in: YV5EBYU.jpg\n",
            "No mask in: QW92NZ0.jpg\n",
            "No mask in: FKOC205.jpg\n",
            "No mask in: A4AN7P9.jpg\n",
            "No mask in: 7W2QBA2.jpg\n",
            "  6% 51/827 [00:03<00:32, 23.86it/s]No mask in: JMC0PQ6.jpg\n",
            "No mask in: I153HBS.jpg\n",
            "No mask in: 3UN1I05.jpg\n",
            "No mask in: EAPOUGG.jpg\n",
            "No mask in: EEMX3XQ.jpg\n",
            "No mask in: T4JWD1A.jpg\n",
            "No mask in: I5DN9GI.jpg\n",
            "No mask in: WAZG720.jpg\n",
            "No mask in: B41UOXC.jpg\n",
            "  9% 71/827 [00:03<00:19, 38.15it/s]No mask in: ZBKTKYZ.jpg\n",
            "No mask in: XKMTBN8.jpg\n",
            "No mask in: GVYH3QT.jpg\n",
            "No mask in: MXA9WXO.jpg\n",
            "No mask in: W8V316Z.jpg\n",
            "No mask in: ZQIWQFD.jpg\n",
            "No mask in: K3H8JV5.jpg\n",
            " 11% 89/827 [00:03<00:14, 52.60it/s]No mask in: JAVC6JF.jpg\n",
            "No mask in: 7BEUN7A.jpg\n",
            "No mask in: JJH07GQ.jpg\n",
            "No mask in: O10IX5A.jpg\n",
            "No mask in: CAY6GP1.jpg\n",
            " 13% 110/827 [00:03<00:09, 72.46it/s]No mask in: M8TMCHS.jpg\n",
            "No mask in: ZAMZINC.jpg\n",
            "No mask in: X9KXWPQ.jpg\n",
            "No mask in: C14WJU5.jpg\n",
            "No mask in: KK6L74U.jpg\n",
            "No mask in: LD70R77.jpg\n",
            "No mask in: 1QDSSDU.jpg\n",
            "No mask in: FXTCMOO.jpg\n",
            "No mask in: U0YLIS0.jpg\n",
            " 16% 129/827 [00:03<00:07, 89.81it/s]No mask in: DYHS98X.jpg\n",
            "No mask in: AB42RTE.jpg\n",
            "No mask in: FYPPXZW.jpg\n",
            "No mask in: TMM9CMC.jpg\n",
            "No mask in: HYQXJV0.jpg\n",
            "No mask in: PB2B4Z4.jpg\n",
            "No mask in: AX9XS8G.jpg\n",
            "No mask in: FD7AD9K.jpg\n",
            " 18% 149/827 [00:03<00:06, 108.89it/s]No mask in: VW48TDO.jpg\n",
            "No mask in: MYI4U4G.jpg\n",
            "No mask in: 225DNO2.jpg\n",
            "No mask in: 98LRXBB.jpg\n",
            "No mask in: 3AM6R3J.jpg\n",
            "No mask in: 2RU4D24.jpg\n",
            " 20% 168/827 [00:03<00:05, 121.72it/s]No mask in: 9T8B8LC.jpg\n",
            "No mask in: D11HIPA.jpg\n",
            "No mask in: T5XIF7T.jpg\n",
            "No mask in: 25EO7JI.jpg\n",
            "No mask in: 899YE22.jpg\n",
            "No mask in: WEOZK6M.jpg\n",
            "No mask in: K3Z3QGI.jpg\n",
            "No mask in: 0YARY6O.jpg\n",
            "No mask in: OV8UQZ4.jpg\n",
            "No mask in: I0I0WU6.jpg\n",
            " 23% 189/827 [00:03<00:04, 140.79it/s]No mask in: L6AHYK3.jpg\n",
            "No mask in: 9Z7YTGV.jpg\n",
            "No mask in: 332C9GM.jpg\n",
            "No mask in: UWUACHV.jpg\n",
            "No mask in: 11HRTNJ.jpg\n",
            "No mask in: 3FSSU7T.jpg\n",
            "No mask in: HMMXAF4.jpg\n",
            "No mask in: 235RQJP.jpg\n",
            " 25% 208/827 [00:04<00:04, 144.01it/s]No mask in: 7WK7TTU.jpg\n",
            "No mask in: 8IW5MN5.jpg\n",
            "No mask in: 6R2RV1N.jpg\n",
            "No mask in: 6P36YFH.jpg\n",
            "No mask in: VWWNM4A.jpg\n",
            "No mask in: BLLV4JR.jpg\n",
            "No mask in: 81VM0LA.jpg\n",
            "No mask in: 5XG4HYS.jpg\n",
            "No mask in: OXT99UC.jpg\n",
            "No mask in: ZESJQA6.jpg\n",
            " 28% 228/827 [00:04<00:03, 156.40it/s]No mask in: ZAYVO2X.jpg\n",
            "No mask in: M69GEGD.jpg\n",
            "No mask in: 1BU9EHY.jpg\n",
            "No mask in: 2RNGNIQ.jpg\n",
            "No mask in: IES0N61.jpg\n",
            "No mask in: 0NDA31Q.jpg\n",
            "No mask in: M1M47EX.jpg\n",
            "No mask in: TT5UK7T.jpg\n",
            "No mask in: Y3BHX9I.jpg\n",
            "No mask in: UF4GBJD.jpg\n",
            "No mask in: TDTPS6I.jpg\n",
            " 30% 247/827 [00:04<00:03, 163.22it/s]No mask in: O3EDX5B.jpg\n",
            "No mask in: D5SUJP8.jpg\n",
            "No mask in: JL00MCI.jpg\n",
            "No mask in: 6T30OHQ.jpg\n",
            " 32% 267/827 [00:04<00:03, 172.09it/s]No mask in: KNT9KJY.jpg\n",
            "No mask in: CNS3QKZ.jpg\n",
            "No mask in: 0TQDQYI.jpg\n",
            "No mask in: F3C3GB0.jpg\n",
            " 35% 286/827 [00:04<00:03, 173.74it/s]No mask in: 3T22XP2.jpg\n",
            "No mask in: OSP8GOW.jpg\n",
            "No mask in: 90OR6Z2.jpg\n",
            "No mask in: D6XJRPX.jpg\n",
            "No mask in: YNGG2YR.jpg\n",
            "No mask in: 5VBLPKE.jpg\n",
            "No mask in: Q029VYP.jpg\n",
            "No mask in: M8SKZB8.jpg\n",
            " 37% 306/827 [00:04<00:02, 178.49it/s]No mask in: DP1TUB3.jpg\n",
            "No mask in: 8JD0WKE.jpg\n",
            "No mask in: UQO5H3Q.jpg\n",
            "No mask in: KKL4NGF.jpg\n",
            "No mask in: MLT4CO4.jpg\n",
            "No mask in: M6R5D82.jpg\n",
            "No mask in: HOAEH0C.jpg\n",
            " 39% 325/827 [00:04<00:02, 179.09it/s]No mask in: RDRQEK7.jpg\n",
            "No mask in: 49OFXZV.jpg\n",
            "No mask in: 0B8PKVO.jpg\n",
            "No mask in: 70ETOQU.jpg\n",
            "No mask in: 5XGF1WX.jpg\n",
            "No mask in: 67L3SFR.jpg\n",
            "No mask in: U7FQQM8.jpg\n",
            " 42% 346/827 [00:04<00:02, 186.34it/s]No mask in: 6IEDP5E.jpg\n",
            "No mask in: N9IGMS4.jpg\n",
            "No mask in: CE8XQYK.jpg\n",
            "No mask in: 3MQ26SS.jpg\n",
            "No mask in: E87G059.jpg\n",
            "No mask in: 2HIJE8R.jpg\n",
            "No mask in: D2I3TBQ.jpg\n",
            "No mask in: 2VNK2CA.jpg\n",
            "No mask in: JNGS6FN.jpg\n",
            "No mask in: ZMY65D2.jpg\n",
            " 44% 366/827 [00:04<00:02, 184.71it/s]No mask in: 9HCAQCG.jpg\n",
            "No mask in: T74UAWQ.jpg\n",
            "No mask in: 16KKZ7E.jpg\n",
            "No mask in: HU9ZCBF.jpg\n",
            "No mask in: SFC8YGH.jpg\n",
            " 47% 387/827 [00:04<00:02, 191.16it/s]No mask in: DAMZ0FE.jpg\n",
            "No mask in: 032NSKK.jpg\n",
            "No mask in: 0G4AL5L.jpg\n",
            "No mask in: M6EX9DY.jpg\n",
            "No mask in: I0KZ5T0.jpg\n",
            "No mask in: FR5AT5K.jpg\n",
            "No mask in: XABQQEW.jpg\n",
            "No mask in: IQL03Q2.jpg\n",
            "No mask in: SY01603.jpg\n",
            " 49% 407/827 [00:05<00:02, 181.79it/s]No mask in: V59LZ3P.jpg\n",
            "No mask in: JH082GY.jpg\n",
            "No mask in: W5QP46I.jpg\n",
            "No mask in: S6BEX2Q.jpg\n",
            "No mask in: IQ19EHF.jpg\n",
            "No mask in: SFIDZKI.jpg\n",
            "No mask in: J8JTYNA.jpg\n",
            "No mask in: CT7K15G.jpg\n",
            "No mask in: 2PD0WT6.jpg\n",
            "No mask in: WZWL6DV.jpg\n",
            " 52% 429/827 [00:05<00:02, 190.10it/s]No mask in: VBDIHRH.jpg\n",
            "No mask in: AF5FHU6.jpg\n",
            "No mask in: FT5JHWX.jpg\n",
            "No mask in: A097DJ9.jpg\n",
            "No mask in: 95J2288.jpg\n",
            "No mask in: B7XE1NQ.jpg\n",
            "No mask in: YSMHQ8F.jpg\n",
            "No mask in: 39C7JM0.jpg\n",
            " 54% 449/827 [00:05<00:02, 189.00it/s]No mask in: USXN74V.jpg\n",
            "No mask in: W5US3BV.jpg\n",
            "No mask in: C3YDXF1.jpg\n",
            "No mask in: EDGSOMN.jpg\n",
            "No mask in: HEYYK2R.jpg\n",
            "No mask in: XPCX74C.jpg\n",
            "No mask in: A8YDSOV.jpg\n",
            "No mask in: AZZTHQU.jpg\n",
            "No mask in: SS7XOF0.jpg\n",
            " 57% 470/827 [00:05<00:01, 194.43it/s]No mask in: AHQ3MMI.jpg\n",
            "No mask in: 43PVYKK.jpg\n",
            "No mask in: RMM4T6I.jpg\n",
            "No mask in: N2SZ3G1.jpg\n",
            "No mask in: 1GCFN40.jpg\n",
            "No mask in: EEVVD1B.jpg\n",
            "No mask in: NEV0NCN.jpg\n",
            "No mask in: MMI58VZ.jpg\n",
            " 59% 490/827 [00:05<00:01, 191.87it/s]No mask in: EMZLHXV.jpg\n",
            "No mask in: J9U1QSC.jpg\n",
            "No mask in: 12E2BI6.jpg\n",
            "No mask in: HIYQ4Y4.jpg\n",
            "No mask in: TL8DHGO.jpg\n",
            " 62% 511/827 [00:05<00:01, 194.65it/s]No mask in: NCOGWG1.jpg\n",
            "No mask in: B0O0H5U.jpg\n",
            "No mask in: YHE90SY.jpg\n",
            "No mask in: G32UFR9.jpg\n",
            "No mask in: YB6JRDN.jpg\n",
            "No mask in: JQIE0BE.jpg\n",
            " 64% 531/827 [00:05<00:01, 189.31it/s]No mask in: CYMBL37.jpg\n",
            "No mask in: D04XSLQ.jpg\n",
            "No mask in: XDQOPO3.jpg\n",
            "No mask in: PLNENM7.jpg\n",
            "No mask in: 5KIBCD6.jpg\n",
            "No mask in: WMLGEGN.jpg\n",
            "No mask in: TPDOFY3.jpg\n",
            "No mask in: 0X3A2E1.jpg\n",
            " 67% 552/827 [00:05<00:01, 193.42it/s]No mask in: IOJXN4S.jpg\n",
            "No mask in: EMB0F1E.jpg\n",
            "No mask in: O5M7R39.jpg\n",
            "No mask in: GU3ODCV.jpg\n",
            "No mask in: U0XRIBS.jpg\n",
            "No mask in: Y45YQOH.jpg\n",
            "No mask in: UFLFBJ6.jpg\n",
            " 69% 572/827 [00:05<00:01, 189.51it/s]No mask in: ICPJHZS.jpg\n",
            "No mask in: F8VQ9PM.jpg\n",
            "No mask in: Q86THUZ.jpg\n",
            "No mask in: GGY4QMC.jpg\n",
            "No mask in: JV9DHLA.jpg\n",
            "No mask in: STC2GD8.jpg\n",
            "No mask in: 6ESKUEK.jpg\n",
            "No mask in: O4Y9LZK.jpg\n",
            "No mask in: FXAYWO4.jpg\n",
            " 72% 593/827 [00:06<00:01, 192.96it/s]No mask in: CQIN51F.jpg\n",
            "No mask in: WH35FV9.jpg\n",
            "No mask in: 57AZ6FN.jpg\n",
            "No mask in: BELB5FH.jpg\n",
            "No mask in: 8CD8KDT.jpg\n",
            "No mask in: SM4HXQE.jpg\n",
            " 74% 613/827 [00:06<00:01, 188.09it/s]No mask in: VLDVRH3.jpg\n",
            "No mask in: HYR3KUV.jpg\n",
            "No mask in: TFGVO3J.jpg\n",
            "No mask in: X0LKU6R.jpg\n",
            "No mask in: 50CEW75.jpg\n",
            "No mask in: FKNBVR8.jpg\n",
            "No mask in: 5PTZ746.jpg\n",
            " 77% 635/827 [00:06<00:00, 195.08it/s]No mask in: I4CMA7D.jpg\n",
            "No mask in: 0O37ND5.jpg\n",
            "No mask in: 3PICYI7.jpg\n",
            "No mask in: 4E5MXMC.jpg\n",
            "No mask in: 52OPDFJ.jpg\n",
            "No mask in: BBSMWRG.jpg\n",
            " 79% 655/827 [00:06<00:00, 191.36it/s]No mask in: RT1W8HV.jpg\n",
            "No mask in: LE1S6W6.jpg\n",
            "No mask in: E32YW95.jpg\n",
            "No mask in: TS040B0.jpg\n",
            "No mask in: RREEGMP.jpg\n",
            "No mask in: 5D3K191.jpg\n",
            "No mask in: UXWIRQK.jpg\n",
            "No mask in: LRXBF8Y.jpg\n",
            "No mask in: VBIM3EY.jpg\n",
            " 82% 676/827 [00:06<00:00, 194.78it/s]No mask in: IX130SR.jpg\n",
            "No mask in: EKKYDBM.jpg\n",
            "No mask in: RR8GW99.jpg\n",
            "No mask in: TUXGXO2.jpg\n",
            "No mask in: BUASODI.jpg\n",
            "No mask in: Z2ENACW.jpg\n",
            "No mask in: 3XPWQR8.jpg\n",
            "No mask in: LHIABWK.jpg\n",
            " 84% 696/827 [00:06<00:00, 187.65it/s]No mask in: BBF7256.jpg\n",
            "No mask in: EFVKAY7.jpg\n",
            "No mask in: K7REP1R.jpg\n",
            "No mask in: PSMDOMI.jpg\n",
            "No mask in: OKSQNVJ.jpg\n",
            "No mask in: HHOWETU.jpg\n",
            "No mask in: RLLVF4I.jpg\n",
            "No mask in: NAFZ6B9.jpg\n",
            "No mask in: 8FT855O.jpg\n",
            " 87% 717/827 [00:06<00:00, 193.55it/s]No mask in: V8LNP5F.jpg\n",
            "No mask in: AT7FPCP.jpg\n",
            "No mask in: LE4SE0I.jpg\n",
            "No mask in: H6GBXUR.jpg\n",
            "No mask in: O8STDKM.jpg\n",
            "No mask in: ALI18CR.jpg\n",
            "No mask in: 1LKZ1E7.jpg\n",
            "No mask in: 16R5AVZ.jpg\n",
            " 89% 737/827 [00:06<00:00, 185.23it/s]No mask in: 2RLY84I.jpg\n",
            "No mask in: 3ON67D3.jpg\n",
            "No mask in: US57GI4.jpg\n",
            "No mask in: 6OGTRYA.jpg\n",
            "No mask in: HLLGW8X.jpg\n",
            "No mask in: 3CQKWIB.jpg\n",
            " 92% 757/827 [00:06<00:00, 187.31it/s]No mask in: NAHRC7V.jpg\n",
            "No mask in: 6OCBZ8P.jpg\n",
            "No mask in: W11AZRP.jpg\n",
            "No mask in: FU2MLCV.jpg\n",
            "No mask in: 0HPF3DZ.jpg\n",
            "No mask in: MIM8WGZ.jpg\n",
            "No mask in: BWT030K.jpg\n",
            "No mask in: JYE4G4O.jpg\n",
            " 94% 776/827 [00:07<00:00, 180.72it/s]No mask in: 9C4W6H7.jpg\n",
            "No mask in: JRS86R8.jpg\n",
            "No mask in: I8T5PY5.jpg\n",
            "No mask in: BSORA4O.jpg\n",
            "No mask in: D1XYQPB.jpg\n",
            "No mask in: BE1S4V2.jpg\n",
            "No mask in: VH5RBA5.jpg\n",
            "No mask in: 4JAXO52.jpg\n",
            "No mask in: RETL7DI.jpg\n",
            "No mask in: K6V4TE4.jpg\n",
            " 96% 795/827 [00:07<00:00, 176.29it/s]No mask in: VA886Y2.jpg\n",
            "No mask in: 6LJWSYE.jpg\n",
            "No mask in: EJW5F5B.jpg\n",
            "No mask in: EW3H59K.jpg\n",
            "No mask in: T9EKFX0.jpg\n",
            "No mask in: Z7B0WYV.jpg\n",
            "No mask in: BD6GC0U.jpg\n",
            "No mask in: QBHKNWL.jpg\n",
            " 98% 813/827 [00:07<00:00, 177.02it/s]No mask in: 59APGP1.jpg\n",
            "No mask in: 4GSZH4I.jpg\n",
            "No mask in: VT80GNL.jpg\n",
            "No mask in: C2JY9H2.jpg\n",
            "No mask in: 7GJMGK0.jpg\n",
            "No mask in: KS3UFW3.jpg\n",
            "No mask in: TCM2RIR.jpg\n",
            "100% 827/827 [00:07<00:00, 113.33it/s]\n",
            "Saved 508 bounding boxes to /content/drive/MyDrive/MedSAM/data/ctrus/bboxes.json\n"
          ]
        }
      ]
    },
    {
      "cell_type": "markdown",
      "source": [
        " Step 2: Run Inference (MedSAM) Using Bounding Boxes\n"
      ],
      "metadata": {
        "id": "bzjTc2t2nE9-"
      }
    },
    {
      "cell_type": "code",
      "source": [
        "!python /content/drive/MyDrive/MedSAM/zero_shot_result_scripts/batch_medsam_ctrus_inference.py #limited to 10 for testing"
      ],
      "metadata": {
        "colab": {
          "base_uri": "https://localhost:8080/"
        },
        "id": "aCghIVsFLP6S",
        "outputId": "6f32c3d3-1333-41a3-ddf0-ed53389c9b5a"
      },
      "execution_count": null,
      "outputs": [
        {
          "output_type": "stream",
          "name": "stdout",
          "text": [
            "\n",
            " DONE FINALLY GOT IT TO WORK!\n",
            "Total processed: 10\n",
            "Total skipped: 0\n"
          ]
        }
      ]
    },
    {
      "cell_type": "markdown",
      "source": [
        "Would have to redo precious step after taking out limit of 10 in batch_medsam_ctrus_inference.py so that it goes through the entire dataset (creating all the predictions needed)"
      ],
      "metadata": {
        "id": "LYZNXRl0Jp7I"
      }
    },
    {
      "cell_type": "code",
      "source": [
        "!python /content/drive/MyDrive/MedSAM/zero_shot_result_scripts/batch_medsam_ctrus_inference_final.py #without the limit since we know it works\n"
      ],
      "metadata": {
        "colab": {
          "base_uri": "https://localhost:8080/"
        },
        "id": "WfHGbc53nFX-",
        "outputId": "803a8be7-67df-4f9d-eb7b-065f8d932fe5"
      },
      "execution_count": null,
      "outputs": [
        {
          "output_type": "stream",
          "name": "stdout",
          "text": [
            "\n",
            " DONE FINALLY!\n",
            "Total processed: 508\n",
            "Total skipped: 0\n"
          ]
        }
      ]
    },
    {
      "cell_type": "markdown",
      "source": [
        "Step 3: Evaluate Predictions - measuring Dice score and IoU score"
      ],
      "metadata": {
        "id": "2YmfwZNHnF6Y"
      }
    },
    {
      "cell_type": "code",
      "source": [
        "!python /content/drive/MyDrive/MedSAM/zero_shot_result_scripts/evaluate_medsam_predictions.py\n"
      ],
      "metadata": {
        "colab": {
          "base_uri": "https://localhost:8080/"
        },
        "id": "8tl_s4CCnGP4",
        "outputId": "1eccd5a8-e2ca-4747-a2da-405d793698d0"
      },
      "execution_count": 23,
      "outputs": [
        {
          "output_type": "stream",
          "name": "stdout",
          "text": [
            "100% 508/508 [00:06<00:00, 84.28it/s]\n",
            "\n",
            "Evaluated 508 image(s)\n",
            " Dice Score: Mean = 0.6115, Std = 0.1836\n",
            " IoU Score:  Mean = 0.4637, Std = 0.1782\n"
          ]
        }
      ]
    }
  ]
}